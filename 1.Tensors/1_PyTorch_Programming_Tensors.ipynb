{
  "cells": [
    {
      "cell_type": "markdown",
      "metadata": {
        "id": "2DrpK6lIWrhi"
      },
      "source": [
        "# PyTorch Programming - Demonstrating Tensors\n",
        "---\n",
        "\n",
        "## Author : Amir Atapour-Abarghouei, amir.atapour-abarghouei@durham.ac.uk\n",
        "\n",
        "This notebook will provide a few examples that show the capabilities of tensors in PyTorch Programming."
      ]
    },
    {
      "cell_type": "markdown",
      "metadata": {
        "id": "-exrFDujXlUG"
      },
      "source": [
        "Let's start by importing what we need:"
      ]
    },
    {
      "cell_type": "code",
      "execution_count": 4,
      "metadata": {
        "id": "f7Xgr3ZNXmQx"
      },
      "outputs": [],
      "source": [
        "import torch"
      ]
    },
    {
      "cell_type": "code",
      "execution_count": 5,
      "metadata": {},
      "outputs": [
        {
          "name": "stdout",
          "output_type": "stream",
          "text": [
            "MPS device not found.\n",
            "True\n"
          ]
        }
      ],
      "source": [
        "\n",
        "if torch.backends.mps.is_available():\n",
        "    mps_device = torch.device(\"mps\")\n",
        "    x = torch.ones(1, device=mps_device)\n",
        "    print (x)\n",
        "else:\n",
        "    print (\"MPS device not found.\")\n",
        "\n",
        "print(torch.cuda.is_available())"
      ]
    },
    {
      "cell_type": "markdown",
      "metadata": {
        "id": "9KO552S5XtCH"
      },
      "source": [
        "One of the most interesting things about PyTorch is that tensors are designed to behave similarly to NumPy arrays. Let's start by creating a simple rank 1 tensor:"
      ]
    },
    {
      "cell_type": "code",
      "execution_count": 6,
      "metadata": {
        "colab": {
          "base_uri": "https://localhost:8080/"
        },
        "id": "-bGhK9wmXsA_",
        "outputId": "fde24e23-008d-4464-f0b4-a744fa0bc530"
      },
      "outputs": [
        {
          "name": "stdout",
          "output_type": "stream",
          "text": [
            "done!\n"
          ]
        }
      ],
      "source": [
        "x = torch.zeros(10)\n",
        "print('done!')"
      ]
    },
    {
      "cell_type": "markdown",
      "metadata": {
        "id": "F1Q_hAATZQWb"
      },
      "source": [
        "and then we can inspect the tensor we have created:"
      ]
    },
    {
      "cell_type": "code",
      "execution_count": 7,
      "metadata": {
        "colab": {
          "base_uri": "https://localhost:8080/"
        },
        "id": "wbTxY01eY0Aq",
        "outputId": "6aa96b19-347e-448d-f74c-5862d3071d30"
      },
      "outputs": [
        {
          "name": "stdout",
          "output_type": "stream",
          "text": [
            "tensor([0., 0., 0., 0., 0., 0., 0., 0., 0., 0.])\n",
            "torch.Size([10])\n"
          ]
        }
      ],
      "source": [
        "print(x)\n",
        "print(x.size())"
      ]
    },
    {
      "cell_type": "markdown",
      "metadata": {
        "id": "Z5UnQLwJZW6O"
      },
      "source": [
        "PyTorch tensors support many of the operations you would expect from a NumPy array:"
      ]
    },
    {
      "cell_type": "code",
      "execution_count": 8,
      "metadata": {
        "colab": {
          "base_uri": "https://localhost:8080/"
        },
        "id": "tVqAtMBuw8LW",
        "outputId": "930137b7-d152-4be9-f5ce-bb3b78cff52b"
      },
      "outputs": [
        {
          "name": "stdout",
          "output_type": "stream",
          "text": [
            "tensor([2., 2., 2., 2., 2., 2., 2., 2., 2., 2.])\n"
          ]
        }
      ],
      "source": [
        "print(x+2)"
      ]
    },
    {
      "cell_type": "code",
      "execution_count": 9,
      "metadata": {
        "colab": {
          "base_uri": "https://localhost:8080/"
        },
        "id": "j87_wKwpxC_0",
        "outputId": "edd94671-eb8d-4989-d018-adf45dd93960"
      },
      "outputs": [
        {
          "name": "stdout",
          "output_type": "stream",
          "text": [
            "tensor([[3., 0., 0., 0., 0., 0., 0., 0., 0., 0.],\n",
            "        [0., 3., 0., 0., 0., 0., 0., 0., 0., 0.],\n",
            "        [0., 0., 3., 0., 0., 0., 0., 0., 0., 0.],\n",
            "        [0., 0., 0., 3., 0., 0., 0., 0., 0., 0.],\n",
            "        [0., 0., 0., 0., 3., 0., 0., 0., 0., 0.],\n",
            "        [0., 0., 0., 0., 0., 3., 0., 0., 0., 0.],\n",
            "        [0., 0., 0., 0., 0., 0., 3., 0., 0., 0.],\n",
            "        [0., 0., 0., 0., 0., 0., 0., 3., 0., 0.],\n",
            "        [0., 0., 0., 0., 0., 0., 0., 0., 3., 0.],\n",
            "        [0., 0., 0., 0., 0., 0., 0., 0., 0., 3.]])\n"
          ]
        }
      ],
      "source": [
        "print(x+3 * torch.eye(10))"
      ]
    },
    {
      "cell_type": "markdown",
      "metadata": {
        "id": "vt8tSeQcy_jZ"
      },
      "source": [
        "You see that we can achieve interesting results using broadcasting. Let's create a rank 2 tensor (matrix) sampled from a Normal distribution:"
      ]
    },
    {
      "cell_type": "code",
      "execution_count": 10,
      "metadata": {
        "colab": {
          "base_uri": "https://localhost:8080/"
        },
        "id": "pou-TRizzZXP",
        "outputId": "85dbee34-734c-4d66-88b2-34220389e7f2"
      },
      "outputs": [
        {
          "name": "stdout",
          "output_type": "stream",
          "text": [
            "tensor([[ 0.4332,  0.4172,  1.8120,  1.1477,  0.3162],\n",
            "        [-0.0973, -0.3987, -1.1430,  0.9041, -0.6732],\n",
            "        [-0.7173, -1.7203, -1.1564,  0.6697, -0.0180],\n",
            "        [ 0.0486,  0.0685,  1.2278,  0.0640,  0.1076],\n",
            "        [ 0.5564,  1.2816,  0.3409,  0.1035, -1.0607],\n",
            "        [-0.5228,  0.4165, -0.5187, -0.3530,  0.1691],\n",
            "        [-0.9094, -0.4847, -0.1307, -0.3696,  0.4560],\n",
            "        [-0.3245,  0.4865,  1.1111,  0.2959,  0.4888],\n",
            "        [ 0.6106, -0.8410,  0.7146, -1.8369, -0.1662],\n",
            "        [ 0.3937, -1.5096,  0.4678,  0.6260,  0.3683]])\n",
            "torch.Size([10, 5])\n"
          ]
        }
      ],
      "source": [
        "x = torch.randn(10,5)\n",
        "# 10 rows, 5 columns\n",
        "# torch.randn returns a tensor drawn from standard normal (mean of 0, variance of 1 - Gaussian)\n",
        "print(x)\n",
        "print(x.shape)"
      ]
    },
    {
      "cell_type": "markdown",
      "metadata": {
        "id": "Wpff5vIw1vPb"
      },
      "source": [
        "We can also look at a matrix drawn from the uniform distribution:"
      ]
    },
    {
      "cell_type": "code",
      "execution_count": 11,
      "metadata": {
        "colab": {
          "base_uri": "https://localhost:8080/"
        },
        "id": "pJSTSWit2D7I",
        "outputId": "b609e9de-25d3-49e9-f1a6-025fbcd3bfc7"
      },
      "outputs": [
        {
          "name": "stdout",
          "output_type": "stream",
          "text": [
            "tensor([[5.7014e-01, 5.5714e-01, 1.4820e-01, 2.1722e-01, 6.3511e-01],\n",
            "        [7.3980e-01, 8.0101e-01, 9.3974e-02, 9.7667e-01, 9.7257e-04],\n",
            "        [5.4966e-01, 1.4073e-01, 1.5521e-02, 1.1675e-01, 9.9222e-01],\n",
            "        [4.7728e-01, 3.1515e-01, 8.0625e-01, 1.1281e-03, 1.8020e-01],\n",
            "        [6.2096e-01, 6.8079e-02, 6.4618e-01, 9.3419e-01, 1.6763e-01],\n",
            "        [1.5658e-01, 5.2189e-01, 9.7021e-01, 7.3499e-01, 1.4082e-01],\n",
            "        [5.0191e-01, 8.9621e-02, 9.7044e-01, 3.4743e-01, 3.7675e-01],\n",
            "        [1.9279e-01, 2.1548e-01, 4.6171e-01, 1.0340e-02, 2.3752e-01],\n",
            "        [1.4427e-01, 6.3096e-01, 6.6305e-01, 6.7402e-01, 2.8560e-01],\n",
            "        [5.1170e-01, 7.1846e-01, 1.0115e-01, 9.8704e-01, 8.2312e-01]])\n",
            "torch.Size([10, 5])\n"
          ]
        }
      ],
      "source": [
        "x = torch.rand(10,5)\n",
        "# torch.randn returns a tensor drawn the uniform distribution in the interval [0,1)\n",
        "print(x)\n",
        "print(x.shape)"
      ]
    },
    {
      "cell_type": "markdown",
      "metadata": {
        "id": "RzCWZ8Lf24i0"
      },
      "source": [
        "We can add or remove singleton dimensions to tensors using `unsqueeze` and `squeeze`.\n",
        "\n",
        "This adds an empty dimension to the matrix"
      ]
    },
    {
      "cell_type": "markdown",
      "metadata": {
        "id": "XrZ3qaos4str"
      },
      "source": [
        "Let's start by adding dimensions to the tensor we created earlier:"
      ]
    },
    {
      "cell_type": "code",
      "execution_count": 12,
      "metadata": {
        "colab": {
          "base_uri": "https://localhost:8080/"
        },
        "id": "tpxus8583aX6",
        "outputId": "46e6e4b9-ee76-435d-849c-a14e36e200f4"
      },
      "outputs": [
        {
          "name": "stdout",
          "output_type": "stream",
          "text": [
            "torch.Size([1, 10, 5])\n",
            "torch.Size([10, 1, 5])\n",
            "torch.Size([10, 5, 1])\n"
          ]
        }
      ],
      "source": [
        "print(x.unsqueeze(0).shape)\n",
        "print(x.unsqueeze(1).shape)\n",
        "print(x.unsqueeze(2).shape)"
      ]
    },
    {
      "cell_type": "markdown",
      "metadata": {
        "id": "uyiYpF-44lw4"
      },
      "source": [
        "Note that these operations are not in-place so we haven't actually modified the `x` tensor:"
      ]
    },
    {
      "cell_type": "code",
      "execution_count": 13,
      "metadata": {
        "colab": {
          "base_uri": "https://localhost:8080/"
        },
        "id": "lKGRvBn85m0K",
        "outputId": "7de5a03d-9eaf-498b-bb3b-5b83f6637587"
      },
      "outputs": [
        {
          "name": "stdout",
          "output_type": "stream",
          "text": [
            "torch.Size([10, 5])\n"
          ]
        }
      ],
      "source": [
        "print(x.shape)"
      ]
    },
    {
      "cell_type": "markdown",
      "metadata": {
        "id": "11Ej2Il75rFk"
      },
      "source": [
        "However, PyTorch does actually support in-place operations. For many operations, by adding underscore, we can get the in-place version of the command - for instance:"
      ]
    },
    {
      "cell_type": "code",
      "execution_count": 14,
      "metadata": {
        "colab": {
          "base_uri": "https://localhost:8080/"
        },
        "id": "mJqiocp56GGy",
        "outputId": "45098a37-02ef-410f-bdf0-b7476f621c17"
      },
      "outputs": [
        {
          "name": "stdout",
          "output_type": "stream",
          "text": [
            "torch.Size([10, 1, 5])\n"
          ]
        }
      ],
      "source": [
        "x.unsqueeze_(1)\n",
        "print(x.shape)"
      ]
    },
    {
      "cell_type": "markdown",
      "metadata": {
        "id": "4S8bzMK77Q21"
      },
      "source": [
        "This, of course, could have been done through assignment as well:"
      ]
    },
    {
      "cell_type": "code",
      "execution_count": 15,
      "metadata": {
        "colab": {
          "base_uri": "https://localhost:8080/"
        },
        "id": "qT7DKnAs7axO",
        "outputId": "a0ada013-a560-40c9-df96-3b7d6f3f4d6a"
      },
      "outputs": [
        {
          "name": "stdout",
          "output_type": "stream",
          "text": [
            "torch.Size([10, 1, 5, 1])\n"
          ]
        }
      ],
      "source": [
        "x = x.unsqueeze(3)\n",
        "print(x.shape)"
      ]
    },
    {
      "cell_type": "markdown",
      "metadata": {
        "id": "pOKfg-9VA5J4"
      },
      "source": [
        "Note that we can remove dimensions using the `squeeze` operator:"
      ]
    },
    {
      "cell_type": "code",
      "execution_count": 16,
      "metadata": {
        "colab": {
          "base_uri": "https://localhost:8080/"
        },
        "id": "vHarcDHiBEw1",
        "outputId": "cc41b250-ef65-4ac6-ca3d-37ad424bc863"
      },
      "outputs": [
        {
          "name": "stdout",
          "output_type": "stream",
          "text": [
            "torch.Size([10, 1, 5])\n"
          ]
        }
      ],
      "source": [
        "print(x.squeeze(3).shape)"
      ]
    },
    {
      "cell_type": "markdown",
      "metadata": {
        "id": "qt6qM7KG9IHk"
      },
      "source": [
        "Now that we have added singleton dimensions to the tensor, we can use `repeat` to repeat along the dimensions we have added:\n",
        "\n",
        "It repeats across the singleton dimensions"
      ]
    },
    {
      "cell_type": "code",
      "execution_count": 17,
      "metadata": {
        "colab": {
          "base_uri": "https://localhost:8080/"
        },
        "id": "5b_6cyPX_mLx",
        "outputId": "1b03c55d-2ab7-4f5e-d226-32953f0006ac"
      },
      "outputs": [
        {
          "name": "stdout",
          "output_type": "stream",
          "text": [
            "torch.Size([10, 3, 5, 6])\n"
          ]
        }
      ],
      "source": [
        "x = x.repeat(1, 3, 1, 6)\n",
        "print(x.shape)"
      ]
    },
    {
      "cell_type": "markdown",
      "metadata": {
        "id": "avSZOMcwDHBE"
      },
      "source": [
        "PyTorch also supports indexing the same way NumPy does, which is very useful.\n",
        "\n",
        "For instance, let's look at the size of the output when we index into the zeroth dimension:"
      ]
    },
    {
      "cell_type": "code",
      "execution_count": 18,
      "metadata": {
        "colab": {
          "base_uri": "https://localhost:8080/"
        },
        "id": "ac6uBi_CDmux",
        "outputId": "16927e05-81af-4bd8-f85e-1eace163d535"
      },
      "outputs": [
        {
          "name": "stdout",
          "output_type": "stream",
          "text": [
            "torch.Size([3, 5, 6])\n"
          ]
        }
      ],
      "source": [
        "print(x[0].shape)"
      ]
    },
    {
      "cell_type": "markdown",
      "metadata": {
        "id": "M9cR6mthESaV"
      },
      "source": [
        "We can use the colon operator, `:`, to select data along specific spatial dimensions:"
      ]
    },
    {
      "cell_type": "code",
      "execution_count": 19,
      "metadata": {
        "colab": {
          "base_uri": "https://localhost:8080/"
        },
        "id": "SJtgqfxKFMGN",
        "outputId": "75164d59-c925-44b8-f0be-7f2da401f18e"
      },
      "outputs": [
        {
          "name": "stdout",
          "output_type": "stream",
          "text": [
            "torch.Size([10, 5, 6])\n"
          ]
        }
      ],
      "source": [
        "print(x[:,0].shape)"
      ]
    },
    {
      "cell_type": "markdown",
      "metadata": {
        "id": "n-R8XICKJdF3"
      },
      "source": [
        "We can also select elements up to a point using the colon operator:"
      ]
    },
    {
      "cell_type": "code",
      "execution_count": 20,
      "metadata": {
        "colab": {
          "base_uri": "https://localhost:8080/"
        },
        "id": "iGq_-o_1JjYt",
        "outputId": "6f3fb3bc-00d8-47b3-efa8-dbb4a0b1d9ee"
      },
      "outputs": [
        {
          "name": "stdout",
          "output_type": "stream",
          "text": [
            "torch.Size([3, 3, 5, 6])\n"
          ]
        }
      ],
      "source": [
        "print(x[:3].shape)"
      ]
    },
    {
      "cell_type": "markdown",
      "metadata": {
        "id": "un8xe3WeKDXC"
      },
      "source": [
        "or we can do it the other way around where we pick everything after a given index:"
      ]
    },
    {
      "cell_type": "code",
      "execution_count": 21,
      "metadata": {
        "colab": {
          "base_uri": "https://localhost:8080/"
        },
        "id": "KXLYsPxnKKnI",
        "outputId": "73f5d53a-3421-4031-a874-06ccc0fc4448"
      },
      "outputs": [
        {
          "name": "stdout",
          "output_type": "stream",
          "text": [
            "torch.Size([7, 3, 5, 6])\n"
          ]
        }
      ],
      "source": [
        "print(x[3:].shape)"
      ]
    },
    {
      "cell_type": "markdown",
      "metadata": {
        "id": "AV2bcTLtKZBe"
      },
      "source": [
        "We can always \"`view`\" the elements of our tensor in different ways. Let's look at the size of our tensor again and see how many elements it has got:"
      ]
    },
    {
      "cell_type": "code",
      "execution_count": 22,
      "metadata": {
        "colab": {
          "base_uri": "https://localhost:8080/"
        },
        "id": "0SqptXmyKnfk",
        "outputId": "3aa2ce7e-659d-44e6-be90-ff221bf28d3d"
      },
      "outputs": [
        {
          "name": "stdout",
          "output_type": "stream",
          "text": [
            "shape of the tensor: torch.Size([10, 3, 5, 6])\n",
            "number of elements in the tensor: 900\n"
          ]
        }
      ],
      "source": [
        "print(f'shape of the tensor: {x.shape}')\n",
        "num_elements = torch.numel(x)\n",
        "print(f'number of elements in the tensor: {num_elements}')"
      ]
    },
    {
      "cell_type": "markdown",
      "metadata": {
        "id": "UnWOuzN6M7I8"
      },
      "source": [
        "Now we can try to change our view of the tensor:"
      ]
    },
    {
      "cell_type": "code",
      "execution_count": 23,
      "metadata": {
        "colab": {
          "base_uri": "https://localhost:8080/"
        },
        "id": "ZT6-s8WENKiY",
        "outputId": "44eb45ea-ec4f-4c2b-b532-074e82505aba"
      },
      "outputs": [
        {
          "data": {
            "text/plain": [
              "torch.Size([900])"
            ]
          },
          "execution_count": 23,
          "metadata": {},
          "output_type": "execute_result"
        }
      ],
      "source": [
        "x.view(num_elements).shape"
      ]
    },
    {
      "cell_type": "markdown",
      "metadata": {
        "id": "F2HQNo-9POVN"
      },
      "source": [
        "We can also do this in a different way:"
      ]
    },
    {
      "cell_type": "code",
      "execution_count": 24,
      "metadata": {
        "colab": {
          "base_uri": "https://localhost:8080/"
        },
        "id": "uT_Ps8oxPSG2",
        "outputId": "c62a92ed-b412-41e6-9766-b38bc82afd31"
      },
      "outputs": [
        {
          "data": {
            "text/plain": [
              "torch.Size([900])"
            ]
          },
          "execution_count": 24,
          "metadata": {},
          "output_type": "execute_result"
        }
      ],
      "source": [
        "x.view(-1).size()"
      ]
    },
    {
      "cell_type": "markdown",
      "metadata": {
        "id": "BL5HvswbOHod"
      },
      "source": [
        "We can actually view the tensor in a number of ways, as long as the number of elements remains the same:"
      ]
    },
    {
      "cell_type": "code",
      "execution_count": 25,
      "metadata": {
        "colab": {
          "base_uri": "https://localhost:8080/"
        },
        "id": "-p8cPQeIOMYp",
        "outputId": "9f2e506c-7ec0-41e9-9543-a457de050735"
      },
      "outputs": [
        {
          "data": {
            "text/plain": [
              "torch.Size([10, 90])"
            ]
          },
          "execution_count": 25,
          "metadata": {},
          "output_type": "execute_result"
        }
      ],
      "source": [
        "x.view([10,90]).shape\n"
      ]
    },
    {
      "cell_type": "code",
      "execution_count": 26,
      "metadata": {
        "colab": {
          "base_uri": "https://localhost:8080/"
        },
        "id": "eOLzENqjPJ3h",
        "outputId": "4fe04476-267e-4193-f1e0-0d7ec64f6f57"
      },
      "outputs": [
        {
          "name": "stdout",
          "output_type": "stream",
          "text": [
            "torch.Size([5, 180])\n"
          ]
        }
      ],
      "source": [
        "print(x.view(x.size(2), -1).shape)"
      ]
    },
    {
      "cell_type": "markdown",
      "metadata": {
        "id": "uQUEA0dVTWjm"
      },
      "source": [
        "Let's take a look at tensor types in PyTorch.\n",
        "\n",
        "By default, tensors are of type float and on the CPU"
      ]
    },
    {
      "cell_type": "code",
      "execution_count": 27,
      "metadata": {
        "colab": {
          "base_uri": "https://localhost:8080/"
        },
        "id": "l7fat9X4T4C0",
        "outputId": "e362c270-05c9-4932-eb03-b9e24ca8c002"
      },
      "outputs": [
        {
          "data": {
            "text/plain": [
              "torch.float32"
            ]
          },
          "execution_count": 27,
          "metadata": {},
          "output_type": "execute_result"
        }
      ],
      "source": [
        "x.dtype"
      ]
    },
    {
      "cell_type": "markdown",
      "metadata": {
        "id": "CjeHLR9yURJ2"
      },
      "source": [
        "We can easily cast tensors to other types - for instance 64-bit integer, `long`: "
      ]
    },
    {
      "cell_type": "code",
      "execution_count": 28,
      "metadata": {
        "colab": {
          "base_uri": "https://localhost:8080/"
        },
        "id": "ECN7byntVaA3",
        "outputId": "45a80c39-6739-49f5-ba51-75d08e0636e2"
      },
      "outputs": [
        {
          "name": "stdout",
          "output_type": "stream",
          "text": [
            "tensor([[[5, 5, 5, 5, 5, 5],\n",
            "         [5, 5, 5, 5, 5, 5],\n",
            "         [1, 1, 1, 1, 1, 1],\n",
            "         [2, 2, 2, 2, 2, 2],\n",
            "         [6, 6, 6, 6, 6, 6]],\n",
            "\n",
            "        [[5, 5, 5, 5, 5, 5],\n",
            "         [5, 5, 5, 5, 5, 5],\n",
            "         [1, 1, 1, 1, 1, 1],\n",
            "         [2, 2, 2, 2, 2, 2],\n",
            "         [6, 6, 6, 6, 6, 6]],\n",
            "\n",
            "        [[5, 5, 5, 5, 5, 5],\n",
            "         [5, 5, 5, 5, 5, 5],\n",
            "         [1, 1, 1, 1, 1, 1],\n",
            "         [2, 2, 2, 2, 2, 2],\n",
            "         [6, 6, 6, 6, 6, 6]]])\n"
          ]
        }
      ],
      "source": [
        "x = (x*10).long()\n",
        "# let us look at a piece of this as it might be too big to view the whole thing:\n",
        "print(x[0]) "
      ]
    },
    {
      "cell_type": "markdown",
      "metadata": {
        "id": "zWnyblUuWLah"
      },
      "source": [
        "Let's confirm what \"device\" the tensor is on:"
      ]
    },
    {
      "cell_type": "code",
      "execution_count": 29,
      "metadata": {
        "colab": {
          "base_uri": "https://localhost:8080/"
        },
        "id": "pTvU4M_nWQn3",
        "outputId": "734188cb-5f9c-45ac-ac39-df2ca6840c1e"
      },
      "outputs": [
        {
          "data": {
            "text/plain": [
              "device(type='cpu')"
            ]
          },
          "execution_count": 29,
          "metadata": {},
          "output_type": "execute_result"
        }
      ],
      "source": [
        "x.device"
      ]
    },
    {
      "cell_type": "markdown",
      "metadata": {
        "id": "HX55dr9PWZLx"
      },
      "source": [
        "The interesting thing is that can transfer the tensor and any subsequent operations to the GPU very easily.\n",
        "\n",
        "Let's recreate our tensor first:\n",
        "\n"
      ]
    },
    {
      "cell_type": "code",
      "execution_count": 30,
      "metadata": {
        "colab": {
          "base_uri": "https://localhost:8080/"
        },
        "id": "NwL5WrGoZewU",
        "outputId": "c9a60160-27f4-4290-f172-6628cb35153d"
      },
      "outputs": [
        {
          "name": "stdout",
          "output_type": "stream",
          "text": [
            "done!\n"
          ]
        }
      ],
      "source": [
        "x = torch.zeros(10)\n",
        "print('done!')"
      ]
    },
    {
      "cell_type": "code",
      "execution_count": 31,
      "metadata": {
        "id": "1xyAXKa4ZMG3"
      },
      "outputs": [],
      "source": [
        "x = x.cuda()"
      ]
    },
    {
      "cell_type": "code",
      "execution_count": 32,
      "metadata": {
        "colab": {
          "base_uri": "https://localhost:8080/"
        },
        "id": "Xr1zXswYZtho",
        "outputId": "8f35f96b-528b-4547-dea8-25a74f8e57a4"
      },
      "outputs": [
        {
          "data": {
            "text/plain": [
              "device(type='cuda', index=0)"
            ]
          },
          "execution_count": 32,
          "metadata": {},
          "output_type": "execute_result"
        }
      ],
      "source": [
        "(x+2).device"
      ]
    },
    {
      "cell_type": "markdown",
      "metadata": {
        "id": "8mLXsAnXaJEI"
      },
      "source": [
        "GPU operations are of course much faster and are basically the engine that run deep learning.\n",
        "\n",
        "At certain points, you might need to use CPU again, which can be done very easily:"
      ]
    },
    {
      "cell_type": "code",
      "execution_count": 33,
      "metadata": {
        "colab": {
          "base_uri": "https://localhost:8080/"
        },
        "id": "uZfiUmMEaUqV",
        "outputId": "cca76390-7da7-4c62-9e43-769540faf32b"
      },
      "outputs": [
        {
          "data": {
            "text/plain": [
              "device(type='cpu')"
            ]
          },
          "execution_count": 33,
          "metadata": {},
          "output_type": "execute_result"
        }
      ],
      "source": [
        "x.cpu().device"
      ]
    },
    {
      "cell_type": "markdown",
      "metadata": {
        "id": "yD9k5klgak7v"
      },
      "source": [
        "As you see, PyTorch offers the versatility of numpy arrays but the ability to use the GPU easily."
      ]
    },
    {
      "cell_type": "markdown",
      "metadata": {},
      "source": [
        "------------\n",
        "Copyright (c) 2023 Amir Atapour-Abarghouei, UK.\n",
        "\n",
        "based on https://github.com/cwkx/ml-materials\n",
        "\n",
        "License : LGPL - http://www.gnu.org/licenses/lgpl.html"
      ]
    }
  ],
  "metadata": {
    "accelerator": "GPU",
    "colab": {
      "collapsed_sections": [],
      "name": "PyTorch_Programming_Tensors.ipynb",
      "provenance": []
    },
    "gpuClass": "standard",
    "kernelspec": {
      "display_name": "base",
      "language": "python",
      "name": "python3"
    },
    "language_info": {
      "codemirror_mode": {
        "name": "ipython",
        "version": 3
      },
      "file_extension": ".py",
      "mimetype": "text/x-python",
      "name": "python",
      "nbconvert_exporter": "python",
      "pygments_lexer": "ipython3",
      "version": "3.9.13"
    }
  },
  "nbformat": 4,
  "nbformat_minor": 0
}
